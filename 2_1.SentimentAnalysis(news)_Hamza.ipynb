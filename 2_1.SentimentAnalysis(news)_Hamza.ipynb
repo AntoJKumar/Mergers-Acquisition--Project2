{
 "cells": [
  {
   "cell_type": "markdown",
   "metadata": {},
   "source": [
    "# Sentiment Analysis for Merger and Acquisition"
   ]
  },
  {
   "cell_type": "markdown",
   "metadata": {},
   "source": [
    "### PART1: Getting Data and saving as a CSV file."
   ]
  },
  {
   "cell_type": "code",
   "execution_count": 1,
   "metadata": {},
   "outputs": [],
   "source": [
    "#Initial Imports\n",
    "\n",
    "import pandas as pd\n",
    "import numpy as np\n",
    "from pathlib import Path\n",
    "\n",
    "import os\n",
    "from dotenv import load_dotenv\n",
    "load_dotenv()\n",
    "\n",
    "import warnings\n",
    "warnings.filterwarnings(\"ignore\")"
   ]
  },
  {
   "cell_type": "markdown",
   "metadata": {},
   "source": [
    "## Getting News Api and Creating a DataFrame"
   ]
  },
  {
   "cell_type": "code",
   "execution_count": 2,
   "metadata": {},
   "outputs": [],
   "source": [
    "# Create a newsapi client\n",
    "from newsapi import NewsApiClient\n",
    "api_key = os.getenv(\"NEWS\")\n",
    "newsapi = NewsApiClient(api_key=\"b6aebcb604f047158e475ebb1370a8bf\")"
   ]
  },
  {
   "cell_type": "code",
   "execution_count": 3,
   "metadata": {},
   "outputs": [],
   "source": [
    "# Create a DataFrame\n",
    "from datetime import datetime\n",
    "\n",
    "def create_df(news):\n",
    "    news =  pd.DataFrame(articles)\n",
    "    news = news.filter(items=[\"publishedAt\", 'title', 'content' , 'description'])\n",
    "    news = news.rename(columns={\"publishedAt\": 'date', 'content' : 'text'})\n",
    "    news['date'] = pd.to_datetime(news['date']).dt.date\n",
    "\n",
    "    news.dropna(inplace=True)\n",
    "\n",
    "    return news\n"
   ]
  },
  {
   "cell_type": "markdown",
   "metadata": {},
   "source": [
    "## Getting the News Data"
   ]
  },
  {
   "cell_type": "code",
   "execution_count": 4,
   "metadata": {},
   "outputs": [
    {
     "name": "stdout",
     "output_type": "stream",
     "text": [
      " Total news articles about Visa - Plaid merger : 89\n"
     ]
    }
   ],
   "source": [
    "articles = []\n",
    "keyword = 'plaid acquisition'\n",
    "\n",
    "for i in range(1,30,1):\n",
    "    news = newsapi.get_everything(\n",
    "        q= keyword,\n",
    "        language = 'en', \n",
    "        sort_by = 'relevancy',\n",
    "        page_size = 100,\n",
    "        page = i,\n",
    "        from_param = '2020-12-01', \n",
    "        to = '2021-01-15'\n",
    "    )\n",
    "    articles.extend(news['articles'])\n",
    "\n",
    "print(f\" Total news articles about Visa - Plaid merger : {news['totalResults']}\")"
   ]
  },
  {
   "cell_type": "code",
   "execution_count": 5,
   "metadata": {},
   "outputs": [],
   "source": [
    "visa = create_df(news)"
   ]
  },
  {
   "cell_type": "code",
   "execution_count": 6,
   "metadata": {},
   "outputs": [
    {
     "data": {
      "text/html": [
       "<div>\n",
       "<style scoped>\n",
       "    .dataframe tbody tr th:only-of-type {\n",
       "        vertical-align: middle;\n",
       "    }\n",
       "\n",
       "    .dataframe tbody tr th {\n",
       "        vertical-align: top;\n",
       "    }\n",
       "\n",
       "    .dataframe thead th {\n",
       "        text-align: right;\n",
       "    }\n",
       "</style>\n",
       "<table border=\"1\" class=\"dataframe\">\n",
       "  <thead>\n",
       "    <tr style=\"text-align: right;\">\n",
       "      <th></th>\n",
       "      <th>date</th>\n",
       "      <th>title</th>\n",
       "      <th>text</th>\n",
       "      <th>description</th>\n",
       "    </tr>\n",
       "  </thead>\n",
       "  <tbody>\n",
       "    <tr>\n",
       "      <th>0</th>\n",
       "      <td>2021-01-12</td>\n",
       "      <td>Daily Crunch: Visa calls off Plaid acquisition</td>\n",
       "      <td>Regulatory action prompts Visa to back off a f...</td>\n",
       "      <td>Regulatory action prompts Visa to back off a f...</td>\n",
       "    </tr>\n",
       "    <tr>\n",
       "      <th>1</th>\n",
       "      <td>2020-12-03</td>\n",
       "      <td>Opposing Visa’s Plaid Acquisition Is Good Anti...</td>\n",
       "      <td>The Justice Department has destroyed its credi...</td>\n",
       "      <td>In opposing the acquisition of a nascent rival...</td>\n",
       "    </tr>\n",
       "    <tr>\n",
       "      <th>2</th>\n",
       "      <td>2021-01-13</td>\n",
       "      <td>Will startup valuations change given rising an...</td>\n",
       "      <td>The United States has, over the past few decad...</td>\n",
       "      <td>The United States has, over the past few decad...</td>\n",
       "    </tr>\n",
       "    <tr>\n",
       "      <th>3</th>\n",
       "      <td>2021-01-04</td>\n",
       "      <td>The Morning After: Samsung's Galaxy S21 will b...</td>\n",
       "      <td>The new year starts in earnest today, and whil...</td>\n",
       "      <td>The new year starts in earnest today, and whil...</td>\n",
       "    </tr>\n",
       "    <tr>\n",
       "      <th>4</th>\n",
       "      <td>2021-01-13</td>\n",
       "      <td>Affirm doubles after starting to trade despite...</td>\n",
       "      <td>Today shares of Affirm, a buy-now-pay-later un...</td>\n",
       "      <td>Today shares of Affirm, a buy-now-pay-later un...</td>\n",
       "    </tr>\n",
       "  </tbody>\n",
       "</table>\n",
       "</div>"
      ],
      "text/plain": [
       "         date                                              title  \\\n",
       "0  2021-01-12     Daily Crunch: Visa calls off Plaid acquisition   \n",
       "1  2020-12-03  Opposing Visa’s Plaid Acquisition Is Good Anti...   \n",
       "2  2021-01-13  Will startup valuations change given rising an...   \n",
       "3  2021-01-04  The Morning After: Samsung's Galaxy S21 will b...   \n",
       "4  2021-01-13  Affirm doubles after starting to trade despite...   \n",
       "\n",
       "                                                text  \\\n",
       "0  Regulatory action prompts Visa to back off a f...   \n",
       "1  The Justice Department has destroyed its credi...   \n",
       "2  The United States has, over the past few decad...   \n",
       "3  The new year starts in earnest today, and whil...   \n",
       "4  Today shares of Affirm, a buy-now-pay-later un...   \n",
       "\n",
       "                                         description  \n",
       "0  Regulatory action prompts Visa to back off a f...  \n",
       "1  In opposing the acquisition of a nascent rival...  \n",
       "2  The United States has, over the past few decad...  \n",
       "3  The new year starts in earnest today, and whil...  \n",
       "4  Today shares of Affirm, a buy-now-pay-later un...  "
      ]
     },
     "execution_count": 6,
     "metadata": {},
     "output_type": "execute_result"
    }
   ],
   "source": [
    "visa.head()"
   ]
  },
  {
   "cell_type": "code",
   "execution_count": 7,
   "metadata": {},
   "outputs": [
    {
     "name": "stdout",
     "output_type": "stream",
     "text": [
      "<class 'pandas.core.frame.DataFrame'>\n",
      "Int64Index: 89 entries, 0 to 88\n",
      "Data columns (total 4 columns):\n",
      " #   Column       Non-Null Count  Dtype \n",
      "---  ------       --------------  ----- \n",
      " 0   date         89 non-null     object\n",
      " 1   title        89 non-null     object\n",
      " 2   text         89 non-null     object\n",
      " 3   description  89 non-null     object\n",
      "dtypes: object(4)\n",
      "memory usage: 3.5+ KB\n"
     ]
    }
   ],
   "source": [
    "visa.info()"
   ]
  },
  {
   "cell_type": "markdown",
   "metadata": {},
   "source": [
    "## Save the file CSV format "
   ]
  },
  {
   "cell_type": "code",
   "execution_count": 8,
   "metadata": {},
   "outputs": [],
   "source": [
    "file_path = Path(\"visaD.csv\")\n",
    "visa.to_csv(file_path, index=False, encoding='utf-8-sig')"
   ]
  },
  {
   "cell_type": "code",
   "execution_count": null,
   "metadata": {},
   "outputs": [],
   "source": []
  }
 ],
 "metadata": {
  "kernelspec": {
   "display_name": "Python 3",
   "language": "python",
   "name": "python3"
  },
  "language_info": {
   "codemirror_mode": {
    "name": "ipython",
    "version": 3
   },
   "file_extension": ".py",
   "mimetype": "text/x-python",
   "name": "python",
   "nbconvert_exporter": "python",
   "pygments_lexer": "ipython3",
   "version": "3.8.5"
  }
 },
 "nbformat": 4,
 "nbformat_minor": 4
}
