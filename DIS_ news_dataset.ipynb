{
 "cells": [
  {
   "cell_type": "markdown",
   "metadata": {},
   "source": [
    "# Sentiment Analysis for Merger and Acquisition"
   ]
  },
  {
   "cell_type": "markdown",
   "metadata": {},
   "source": [
    "### PART1: Getting Data and saving as a CSV file."
   ]
  },
  {
   "cell_type": "code",
   "execution_count": 1,
   "metadata": {},
   "outputs": [],
   "source": [
    "#Initial Imports\n",
    "\n",
    "import pandas as pd\n",
    "import numpy as np\n",
    "from pathlib import Path\n",
    "\n",
    "import os\n",
    "from dotenv import load_dotenv\n",
    "load_dotenv()\n",
    "\n",
    "import warnings\n",
    "warnings.filterwarnings(\"ignore\")"
   ]
  },
  {
   "cell_type": "markdown",
   "metadata": {},
   "source": [
    "## Getting News Api and Creating a DataFrame"
   ]
  },
  {
   "cell_type": "code",
   "execution_count": 2,
   "metadata": {},
   "outputs": [],
   "source": [
    "# Create a newsapi client\n",
    "from newsapi import NewsApiClient\n",
    "api_key = os.getenv(\"NEWS\")\n",
    "newsapi = NewsApiClient(api_key=api_key)"
   ]
  },
  {
   "cell_type": "code",
   "execution_count": 3,
   "metadata": {},
   "outputs": [],
   "source": [
    "# Create a DataFrame\n",
    "from datetime import datetime\n",
    "\n",
    "def create_df(news):\n",
    "    news =  pd.DataFrame(articles)\n",
    "    news = news.filter(items=[\"publishedAt\", 'title', 'content' , 'description'])\n",
    "    news = news.rename(columns={\"publishedAt\": 'date', 'content' : 'text'})\n",
    "    news['date'] = pd.to_datetime(news['date']).dt.date\n",
    "\n",
    "    news.dropna(inplace=True)\n",
    "\n",
    "    return news\n"
   ]
  },
  {
   "cell_type": "markdown",
   "metadata": {},
   "source": [
    "## Getting the News Data"
   ]
  },
  {
   "cell_type": "code",
   "execution_count": 4,
   "metadata": {},
   "outputs": [
    {
     "name": "stdout",
     "output_type": "stream",
     "text": [
      " Total news articles about Disney - Fox merger : 4324\n"
     ]
    }
   ],
   "source": [
    "articles = []\n",
    "keyword = 'disney fox merger'\n",
    "\n",
    "for i in range(1,30,1):\n",
    "    news = newsapi.get_everything(\n",
    "        q= keyword,\n",
    "        language = 'en', \n",
    "        sort_by = 'relevancy',\n",
    "        page_size = 100,\n",
    "        page = i,\n",
    "        from_param = '2018-06-01', \n",
    "        to = '2019-07-01'\n",
    "    )\n",
    "    articles.extend(news['articles'])\n",
    "\n",
    "print(f\" Total news articles about Disney - Fox merger : {news['totalResults']}\")"
   ]
  },
  {
   "cell_type": "code",
   "execution_count": 5,
   "metadata": {},
   "outputs": [
    {
     "data": {
      "text/plain": [
       "{'source': {'id': 'reuters', 'name': 'Reuters'},\n",
       " 'author': 'Reuters Editorial',\n",
       " 'title': 'EU mergers and takeovers (Sept 24)',\n",
       " 'description': 'The following are mergers under review by the European Commission and a brief guide to the EU merger process:US',\n",
       " 'url': 'https://www.reuters.com/article/eu-ma/eu-mergers-and-takeovers-idUSL2N1WA04R',\n",
       " 'urlToImage': 'https://s4.reutersmedia.net/resources_v2/images/rcom-default.png',\n",
       " 'publishedAt': '2018-09-24T11:04:55Z',\n",
       " 'content': 'BRUSSELS, Sept 24 (Reuters) - The following are mergers under review by the European Commission and a brief guide to the EU merger process: APPROVALS AND WITHDRAWALS German project group Steag and German engineering company Siemens take joint control of a power plan in Herne, western Germany (approved Sept. 21) German asphalt maker Deutsche Asphalt, which is a subsidiary of Austrian construction company Strabag, and German road construction company Bunte to set up a joint venture (approved Sept. 21) Germany’s Vossloh and Austria’s Rhomberg Sersa Rail Holding to set up a railway technology joint venture (approved Sept. 21) Private equity firm EQT Fund Management to acquire Luxembourg specialty chemicals and food ingredients distributor Azelis (approved Sept. 21) NEW LISTINGS China Huaxin Post and Telecom Technologies Co., Ltd to establish a joint venture with Netherlands company Juniper Networks International B.V. to research, manufacture and sell network switches, routers and security products in China (notified Sept. 21/deadline Oct. 26/simplified) Private equity fund EQT Fund Management (in its capacity as alternative investment fund manager of the relevant EQT fund) to acquire, through a holding vehicle, sole control of French water and wastewater management company Holding d’Infrastructures des Métiers de l’Environnement S.A.S., which indirectly holds 100 percent of the shares and voting rights of Saur S.A.S. (notified Sept. 21/deadline Oct. 26/simplified) Japanese company Sony Corp. to buy majority control of UK music publishing company EMI Music Publishing (notified Sept. 21/deadline Oct. 26) French investment bank Bpifrance to buy joint control of Vallourec Umbilicals with French energy company Vallourec Tubes (notified Sept. 20/deadline Oct. 25/simplified) U.S. private equity investor Advent International Corporation to buy shares to gain sole control of Irish telecommunications, power and transport company KN Group (notified Sept. 20/deadline Oct. 25/simplified) Hong Kong companies CK Asset Holdings Limited, infrastructure company CK Infrastructure Holdings Limited and energy investment company Power Assets Holdings Limited to buy Australian energy infrastructure company APA (notified Sept. 19/deadline Oct. 24/simplified) Fund managed by private equity firm Bain Capital Investors LLC to buy Italian specialty chemicals company Italmatch Chemicals (notified Sept. 19/deadline Oct. 24/simplified) EXTENSIONS AND OTHER CHANGES None FIRST-STAGE REVIEWS BY DEADLINE SEPT 27 U.S. planemaker Boeing and French aerospace company Safran to set up a joint venture to make and service aircraft auxiliary power units (notified Aug. 23/deadline Sept. 27) SEPT 28 Private equity firm KKR and French telecoms provider Altice to acquire joint control of Altice’s French subsidiary SFR Filiale (notified Aug. 24/deadline Sept. 28/simplified) OCT 3 U.S. plane maker Boeing to acquire aerospace parts company KLX (notified Aug. 29/deadline Oct. 3) OCT 4 Private equity fund Lone Star to acquire French company Imerys’ roof tiles business (notified Aug. 30/deadline Oct. 4/simplified) OCT 5 Boeing and automotive seat maker Adient to form a joint venture to make airline seats (notified Aug. 31/deadline Oct. 5) Japanese beverages and pharmaceutical group Kirin Holdings and Japanese trading house Mitsui to acquire joint control of nutritional supplements company Thorne Holding Corp (notified Aug. 31/deadline Oct. 5/simplified) OCT 8 Swedish mobile operato Tele2 to acquire Swedish cable TV company Com Hem (notified Sept. 3/deadline Oct. 8) Chinese conglomerate CITIC Group to require a majority stake in Czech holding group European Bridge Travel, which controls travel services companies (notified Sept. 3/deadline Oct. 8/simplified) OCT 9 Alphabet’s Verily and ResMed to set up a joint venture (notified Sept. 4/deadline Oct. 9/simplified) Canadian auto parts maker Magna to acquire Italian lighting products maker Olsa (notified Sept. 4/deadline Oct. 9/simplified) OCT 10 U.S. investment firm KKR to acquire joint control over Singapore property website Property Guru (notified Sept. 5/deadline Oct. 10/simplified) OCT 11 Private investment firm SK Capital Partners to acquire U.S. specialty chemical company Schenectady International (notified Sept. 6/deadline Oct. 11) OCT 12 Business process services company Synnex Corp to acquire call center operator Convergys Corp (notified Sept. 7/deadline Oct. 12/simplified) Buy-out firm Cinven to acquire sole control of Italian insurer Generali Lebensversicherung (notified Sept. 7/deadline Oct. 12/simplified) German gaming and gambling company Gauselmann to take a 33 percent stake and joint control of casino operator Spielbank Mainz (notified Sept. 7/ deadline Oct. 12/simplified) Investment company Bregal to acquire travel firm Trendtours Touristik (notified Sept. 7/deadline Oct. 12/simplified) OCT 15 U.S. pet food maker Mars Petcare to acquire European veterinary business Anicura (notified Sept. 10/deadline Oct. 15) Qatar Petroleum to acquire a 30 percent stake in two of Exxon Mobil’s affiliates in Argentina (notified Sept. 10/deadline Oct. 15/simplified) OCT 16 French equity firm PAI Partners to acquire board game publisher Asmodee (notified Sept. 11/deadline Oct. 16/simplified) Japanese industrial gas supplier Taiyo Nippon Sanso to acquire U.S. industrial gas company Praxair’s European business (notified Sept. 11/deadline Oct. 16) OCT 17 Semiconductor company Broadcom to acquire technology company CA (notified Sept. 12/deadline Oct. 17/simplified) 3i Infrastructure and Danish pension company ATP to invest in telecoms operator Tampnet (notitied Sept. 12/deadline Oct. 17/simplified) Private equity company the Carlyle Group to acquire interest in U.S. broadcast services company NEP Group (notified Sept. 12/deadline Oct. 17/simplified) OCT 18 Morgan Stanley Infrastructure to acquire German rail logistics group VTG (notified Sept. 13/deadline Oct. 18/simplified) OCT 19 Italian and U.S.-based private equity firms the Carlyle Group and Investindustrial to acquire furniture maker B&amp;B Italia and lighting companies Flos and Louis Poulsen (notified Sept. 14/deadline Oct. 19/simplified) German industrial gas company Messer Group and private equity group CVC to acquire certain assets from German chemical company Linde Group (notified Sept. 14/deadline Oct. 19/simplified) U.S. software company Microsoft Corp to buy privately held coding website GitHub Inc (notified Sept. 14/deadline Oct. 19) Walt Disney Co to buy the bulk of Twenty-First Century Fox Inc’s film and television assets (notified Sept. 14/deadline Oct. 19) OCT 22 U.S. computer and printer maker HP Inc to buy U.K.-based office equipment dealer Apogee Corp (notified Sept. 17/deadline Oct. 22) Private equity fund Lone Star to buy Spanish company CaixaBank’s real estate assets (notified Sept. 17/deadline Oct. 22) Shipping group CMA CGM to acquire shipping and logistics company Container Finance’s holdings in Multi-Link Terminals Ltd and CD Holding Oy (notified Sept. 17/deadline Oct. 22) U.S. aircraft parts maker Spirit Aerosystems Holdings Inc to acquire EU-based supplier Asco Industries NV (notified Sept. 17/deadline Oct. 22) German luxury carmakers Daimler and BMW to launch a car-sharing joint venture (notified Sept. 17/deadline Oct. 22) OCT 23 U.S. travel and restaurent reservation and related services company Booking Holdings Inc to buy Australian hotel metasearch site HotelsCombined (notified Sept. 18/deadline Oct. 23) OCT 25 U.S. private equity investor Bain Capital Private Equity to buy UK insurance service company esure Group (notified Sept. 20/deadline Oct. 25/simplified) NOV 30 Deutsche Telekom to acquire Swedish peer Tele2’s Dutch unit and merge it with its Dutch business T-Mobile Nederland (notified May 2/deadline Nov. 30 after deadline suspension ended Aug. 6) DEC 13 Copper company KME, which is part of Intek Group, to acquire German peer MKM Mansfelder Kupfer and Messing GmbH (notified June 4/deadline Dec. 13) DEC 18 German company BASF to acquire Belgian chemicals company Solvay’s worldwide polyamide business (notified May 22/deadline Dec. 18) JAN 3 German copper products maker Wieland-Werke to acquire German copper smelter Aurubis’ flat rolled products unit Products Schwermetall (notified June 13/deadline Jan. 3) JAN 8 French aerospace and defence group Thales to acquire Franco-Dutch chipmaker Gemalto (notified June 18/deadline Jan. 8) JAN 28 Siemens and Alstom to merge their railway operations (notified June 8/deadline Jan. 28) DEADLINES: The European Commission has 25 working days after a deal is filed for a first-stage review. It may extend that by 10 working days to 35 working days, to consider either a company’s proposed remedies or an EU member state’s request to handle the case. Most mergers win approval but occasionally the Commission opens a detailed second-stage investigation for up to 90 additional working days, which it may extend to 105 working days. SIMPLIFIED: Under the simplified procedure, the Commission announces the clearance of uncontroversial first-stage mergers without giving any reason for its decision. Cases may be reclassified as non-simplified - that is, ordinary first-stage reviews - until they are approved. (Reporting by Daphne Psaledakis)'}"
      ]
     },
     "execution_count": 5,
     "metadata": {},
     "output_type": "execute_result"
    }
   ],
   "source": [
    "news['articles'][1]"
   ]
  },
  {
   "cell_type": "code",
   "execution_count": 6,
   "metadata": {},
   "outputs": [],
   "source": [
    "disney = create_df(news)"
   ]
  },
  {
   "cell_type": "code",
   "execution_count": 7,
   "metadata": {},
   "outputs": [
    {
     "data": {
      "text/html": [
       "<div>\n",
       "<style scoped>\n",
       "    .dataframe tbody tr th:only-of-type {\n",
       "        vertical-align: middle;\n",
       "    }\n",
       "\n",
       "    .dataframe tbody tr th {\n",
       "        vertical-align: top;\n",
       "    }\n",
       "\n",
       "    .dataframe thead th {\n",
       "        text-align: right;\n",
       "    }\n",
       "</style>\n",
       "<table border=\"1\" class=\"dataframe\">\n",
       "  <thead>\n",
       "    <tr style=\"text-align: right;\">\n",
       "      <th></th>\n",
       "      <th>date</th>\n",
       "      <th>title</th>\n",
       "      <th>text</th>\n",
       "      <th>description</th>\n",
       "    </tr>\n",
       "  </thead>\n",
       "  <tbody>\n",
       "    <tr>\n",
       "      <th>0</th>\n",
       "      <td>2018-07-19</td>\n",
       "      <td>Comcast drops its pursuit of Fox, making way f...</td>\n",
       "      <td>Comcast announced this morning that it’s halti...</td>\n",
       "      <td>Comcast announced this morning that it’s halti...</td>\n",
       "    </tr>\n",
       "    <tr>\n",
       "      <th>1</th>\n",
       "      <td>2018-06-13</td>\n",
       "      <td>Comcast bids $65B for Fox assets, setting the ...</td>\n",
       "      <td>Comcast made good on its plans to make an offe...</td>\n",
       "      <td>Comcast made good on its plans to make an offe...</td>\n",
       "    </tr>\n",
       "    <tr>\n",
       "      <th>2</th>\n",
       "      <td>2018-06-07</td>\n",
       "      <td>The Comcast-Disney Battle Isn't Just Business—...</td>\n",
       "      <td>This week, there’s a swirl of stories about Co...</td>\n",
       "      <td>Rubert Murdoch and Brian Roberts aren't just t...</td>\n",
       "    </tr>\n",
       "    <tr>\n",
       "      <th>3</th>\n",
       "      <td>2018-06-13</td>\n",
       "      <td>Comcast Offers $65 Billion in Cash to Buy Fox ...</td>\n",
       "      <td>If you were hoping to see all of your favorite...</td>\n",
       "      <td>If you were hoping to see all of your favorite...</td>\n",
       "    </tr>\n",
       "    <tr>\n",
       "      <th>4</th>\n",
       "      <td>2019-03-19</td>\n",
       "      <td>Deadpool celebrates Disney-Fox merger in typic...</td>\n",
       "      <td>20th Century Fox\\r\\nIt's 20th Century Fox's fi...</td>\n",
       "      <td>Ryan Reynolds further confirms he is master of...</td>\n",
       "    </tr>\n",
       "  </tbody>\n",
       "</table>\n",
       "</div>"
      ],
      "text/plain": [
       "         date                                              title  \\\n",
       "0  2018-07-19  Comcast drops its pursuit of Fox, making way f...   \n",
       "1  2018-06-13  Comcast bids $65B for Fox assets, setting the ...   \n",
       "2  2018-06-07  The Comcast-Disney Battle Isn't Just Business—...   \n",
       "3  2018-06-13  Comcast Offers $65 Billion in Cash to Buy Fox ...   \n",
       "4  2019-03-19  Deadpool celebrates Disney-Fox merger in typic...   \n",
       "\n",
       "                                                text  \\\n",
       "0  Comcast announced this morning that it’s halti...   \n",
       "1  Comcast made good on its plans to make an offe...   \n",
       "2  This week, there’s a swirl of stories about Co...   \n",
       "3  If you were hoping to see all of your favorite...   \n",
       "4  20th Century Fox\\r\\nIt's 20th Century Fox's fi...   \n",
       "\n",
       "                                         description  \n",
       "0  Comcast announced this morning that it’s halti...  \n",
       "1  Comcast made good on its plans to make an offe...  \n",
       "2  Rubert Murdoch and Brian Roberts aren't just t...  \n",
       "3  If you were hoping to see all of your favorite...  \n",
       "4  Ryan Reynolds further confirms he is master of...  "
      ]
     },
     "execution_count": 7,
     "metadata": {},
     "output_type": "execute_result"
    }
   ],
   "source": [
    "disney.head()"
   ]
  },
  {
   "cell_type": "code",
   "execution_count": 8,
   "metadata": {},
   "outputs": [
    {
     "name": "stdout",
     "output_type": "stream",
     "text": [
      "<class 'pandas.core.frame.DataFrame'>\n",
      "Int64Index: 2893 entries, 0 to 2899\n",
      "Data columns (total 4 columns):\n",
      " #   Column       Non-Null Count  Dtype \n",
      "---  ------       --------------  ----- \n",
      " 0   date         2893 non-null   object\n",
      " 1   title        2893 non-null   object\n",
      " 2   text         2893 non-null   object\n",
      " 3   description  2893 non-null   object\n",
      "dtypes: object(4)\n",
      "memory usage: 113.0+ KB\n"
     ]
    }
   ],
   "source": [
    "disney.info()"
   ]
  },
  {
   "cell_type": "markdown",
   "metadata": {},
   "source": [
    "## Save the file CSV format "
   ]
  },
  {
   "cell_type": "code",
   "execution_count": 9,
   "metadata": {},
   "outputs": [],
   "source": [
    "file_path = Path(\"disney.csv\")\n",
    "disney.to_csv(file_path, index=False, encoding='utf-8-sig')"
   ]
  },
  {
   "cell_type": "code",
   "execution_count": null,
   "metadata": {},
   "outputs": [],
   "source": []
  }
 ],
 "metadata": {
  "kernelspec": {
   "display_name": "Python 3",
   "language": "python",
   "name": "python3"
  },
  "language_info": {
   "codemirror_mode": {
    "name": "ipython",
    "version": 3
   },
   "file_extension": ".py",
   "mimetype": "text/x-python",
   "name": "python",
   "nbconvert_exporter": "python",
   "pygments_lexer": "ipython3",
   "version": "3.8.5"
  }
 },
 "nbformat": 4,
 "nbformat_minor": 4
}
