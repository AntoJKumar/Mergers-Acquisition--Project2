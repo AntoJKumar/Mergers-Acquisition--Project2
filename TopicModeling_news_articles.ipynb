{
 "cells": [
  {
   "cell_type": "markdown",
   "metadata": {},
   "source": [
    "# Sentiment Analysis for Merger and Acquisition"
   ]
  },
  {
   "cell_type": "markdown",
   "metadata": {},
   "source": [
    "### PART1: Getting Data and saving as a CSV file."
   ]
  },
  {
   "cell_type": "code",
   "execution_count": 1,
   "metadata": {},
   "outputs": [],
   "source": [
    "#Initial Imports\n",
    "\n",
    "import pandas as pd\n",
    "import numpy as np\n",
    "from pathlib import Path\n",
    "\n",
    "import os\n",
    "from dotenv import load_dotenv\n",
    "load_dotenv()\n",
    "\n",
    "import warnings\n",
    "warnings.filterwarnings(\"ignore\")"
   ]
  },
  {
   "cell_type": "markdown",
   "metadata": {},
   "source": [
    "## Getting News Api and Creating a DataFrame"
   ]
  },
  {
   "cell_type": "code",
   "execution_count": 2,
   "metadata": {},
   "outputs": [],
   "source": [
    "# Create a newsapi client\n",
    "from newsapi import NewsApiClient\n",
    "api_key = os.getenv(\"NEWS\")\n",
    "newsapi = NewsApiClient(api_key=api_key)"
   ]
  },
  {
   "cell_type": "code",
   "execution_count": 3,
   "metadata": {},
   "outputs": [],
   "source": [
    "# Create a DataFrame\n",
    "from datetime import datetime\n",
    "\n",
    "def create_df(news):\n",
    "    news =  pd.DataFrame(articles)\n",
    "    news = news.filter(items=[\"publishedAt\", 'title', 'content' , 'description'])\n",
    "    news = news.rename(columns={\"publishedAt\": 'date', 'content' : 'text'})\n",
    "    news['date'] = pd.to_datetime(news['date']).dt.date\n",
    "\n",
    "    news.dropna(inplace=True)\n",
    "\n",
    "    return news\n"
   ]
  },
  {
   "cell_type": "markdown",
   "metadata": {},
   "source": [
    "## Getting the News Data"
   ]
  },
  {
   "cell_type": "code",
   "execution_count": 4,
   "metadata": {},
   "outputs": [
    {
     "name": "stdout",
     "output_type": "stream",
     "text": [
      " Total news articles Disney-Fox merger & acquisition : 5701\n"
     ]
    }
   ],
   "source": [
    "articles = []\n",
    "keyword = 'disney fox merger'\n",
    "\n",
    "for i in range(1,20,1):\n",
    "    news1 = newsapi.get_everything(\n",
    "        q= keyword,\n",
    "        language = 'en', \n",
    "        sort_by = 'relevancy',\n",
    "        page_size = 100,\n",
    "        page = i,\n",
    "        from_param = '2018-01-01', \n",
    "        to = '2019-07-01'\n",
    "    )\n",
    "    articles.extend(news1['articles'])\n",
    "\n",
    "print(f\" Total news articles Disney-Fox merger & acquisition : {news1['totalResults']}\")"
   ]
  },
  {
   "cell_type": "code",
   "execution_count": 5,
   "metadata": {},
   "outputs": [
    {
     "name": "stdout",
     "output_type": "stream",
     "text": [
      " Total news articles Visa-Plaid merger & acquisition : 317\n"
     ]
    }
   ],
   "source": [
    "articles = []\n",
    "keyword = 'visa plaid '\n",
    "\n",
    "for i in range(1,20,1):\n",
    "    news2 = newsapi.get_everything(\n",
    "        q= keyword,\n",
    "        language = 'en', \n",
    "        sort_by = 'relevancy',\n",
    "        page_size = 100,\n",
    "        page = i,\n",
    "        from_param = '2020-01-01', \n",
    "        to = '2020-03-01'\n",
    "    )\n",
    "    articles.extend(news2['articles'])\n",
    "\n",
    "print(f\" Total news articles Visa-Plaid merger & acquisition : {news2['totalResults']}\")"
   ]
  },
  {
   "cell_type": "code",
   "execution_count": 6,
   "metadata": {},
   "outputs": [
    {
     "name": "stdout",
     "output_type": "stream",
     "text": [
      " Total news articles Apple-Intel merger & acquisition : 34330\n"
     ]
    }
   ],
   "source": [
    "articles3 = []\n",
    "keyword = 'intel apple'\n",
    "\n",
    "for i in range(1,20,1):\n",
    "    news3 = newsapi.get_everything(\n",
    "        q= keyword,\n",
    "        language = 'en', \n",
    "        sort_by = 'relevancy',\n",
    "        page_size = 100,\n",
    "        page = i,\n",
    "        from_param = '2019-03-01', \n",
    "        to = '2021-01-01'\n",
    "    )\n",
    "    articles.extend(news3['articles'])\n",
    "\n",
    "print(f\" Total news articles Apple-Intel merger & acquisition : {news3['totalResults']}\")"
   ]
  },
  {
   "cell_type": "code",
   "execution_count": 7,
   "metadata": {},
   "outputs": [],
   "source": [
    "news1df = create_df(news1)\n",
    "news2df = create_df(news2)\n",
    "news3df = create_df(news3)"
   ]
  },
  {
   "cell_type": "code",
   "execution_count": 8,
   "metadata": {},
   "outputs": [
    {
     "data": {
      "text/html": [
       "<div>\n",
       "<style scoped>\n",
       "    .dataframe tbody tr th:only-of-type {\n",
       "        vertical-align: middle;\n",
       "    }\n",
       "\n",
       "    .dataframe tbody tr th {\n",
       "        vertical-align: top;\n",
       "    }\n",
       "\n",
       "    .dataframe thead th {\n",
       "        text-align: right;\n",
       "    }\n",
       "</style>\n",
       "<table border=\"1\" class=\"dataframe\">\n",
       "  <thead>\n",
       "    <tr style=\"text-align: right;\">\n",
       "      <th></th>\n",
       "      <th>date</th>\n",
       "      <th>title</th>\n",
       "      <th>text</th>\n",
       "      <th>description</th>\n",
       "    </tr>\n",
       "  </thead>\n",
       "  <tbody>\n",
       "    <tr>\n",
       "      <th>2212</th>\n",
       "      <td>2019-09-26</td>\n",
       "      <td>'Start Here': White House releases Ukraine cal...</td>\n",
       "      <td>It's Thursday, Sept. 26, 2019. Let's start her...</td>\n",
       "      <td>It's Thursday, Sept. 26, 2019. Here's what you...</td>\n",
       "    </tr>\n",
       "    <tr>\n",
       "      <th>2213</th>\n",
       "      <td>2020-08-13</td>\n",
       "      <td>95% of Chinese iPhone owners would abandon App...</td>\n",
       "      <td>A huge Chinese survey with more than 1.2 milli...</td>\n",
       "      <td>A huge Chinese survey with more than 1.2 milli...</td>\n",
       "    </tr>\n",
       "    <tr>\n",
       "      <th>2214</th>\n",
       "      <td>2020-08-05</td>\n",
       "      <td>Apple Updates 27-Inch iMac With 10th Generatio...</td>\n",
       "      <td>Apple has just released a new 27-inch model fo...</td>\n",
       "      <td>Apple has just released a new 27-inch model fo...</td>\n",
       "    </tr>\n",
       "    <tr>\n",
       "      <th>2215</th>\n",
       "      <td>2020-07-22</td>\n",
       "      <td>Apple issues third macOS Big Sur beta to devel...</td>\n",
       "      <td>Apple on Wednesday released a third beta versi...</td>\n",
       "      <td>Apple on Wednesday released a third beta versi...</td>\n",
       "    </tr>\n",
       "    <tr>\n",
       "      <th>2216</th>\n",
       "      <td>2019-05-22</td>\n",
       "      <td>Google's problems in China are bigger than Hua...</td>\n",
       "      <td>Google has long had a complicated relationship...</td>\n",
       "      <td>President Trump's ban on the world's second-la...</td>\n",
       "    </tr>\n",
       "  </tbody>\n",
       "</table>\n",
       "</div>"
      ],
      "text/plain": [
       "            date                                              title  \\\n",
       "2212  2019-09-26  'Start Here': White House releases Ukraine cal...   \n",
       "2213  2020-08-13  95% of Chinese iPhone owners would abandon App...   \n",
       "2214  2020-08-05  Apple Updates 27-Inch iMac With 10th Generatio...   \n",
       "2215  2020-07-22  Apple issues third macOS Big Sur beta to devel...   \n",
       "2216  2019-05-22  Google's problems in China are bigger than Hua...   \n",
       "\n",
       "                                                   text  \\\n",
       "2212  It's Thursday, Sept. 26, 2019. Let's start her...   \n",
       "2213  A huge Chinese survey with more than 1.2 milli...   \n",
       "2214  Apple has just released a new 27-inch model fo...   \n",
       "2215  Apple on Wednesday released a third beta versi...   \n",
       "2216  Google has long had a complicated relationship...   \n",
       "\n",
       "                                            description  \n",
       "2212  It's Thursday, Sept. 26, 2019. Here's what you...  \n",
       "2213  A huge Chinese survey with more than 1.2 milli...  \n",
       "2214  Apple has just released a new 27-inch model fo...  \n",
       "2215  Apple on Wednesday released a third beta versi...  \n",
       "2216  President Trump's ban on the world's second-la...  "
      ]
     },
     "execution_count": 8,
     "metadata": {},
     "output_type": "execute_result"
    }
   ],
   "source": [
    "news2df.tail()"
   ]
  },
  {
   "cell_type": "code",
   "execution_count": 9,
   "metadata": {},
   "outputs": [],
   "source": [
    "all_articles = pd.concat([news1df, news2df, news3df], axis='rows')"
   ]
  },
  {
   "cell_type": "code",
   "execution_count": 11,
   "metadata": {},
   "outputs": [
    {
     "name": "stdout",
     "output_type": "stream",
     "text": [
      "<class 'pandas.core.frame.DataFrame'>\n",
      "Int64Index: 6639 entries, 1438 to 383\n",
      "Data columns (total 4 columns):\n",
      " #   Column       Non-Null Count  Dtype \n",
      "---  ------       --------------  ----- \n",
      " 0   date         6639 non-null   object\n",
      " 1   title        6639 non-null   object\n",
      " 2   text         6639 non-null   object\n",
      " 3   description  6639 non-null   object\n",
      "dtypes: object(4)\n",
      "memory usage: 259.3+ KB\n"
     ]
    }
   ],
   "source": [
    "all_articles = all_articles.sort_values(by ='date', ascending=False)\n",
    "all_articles.info()"
   ]
  },
  {
   "cell_type": "markdown",
   "metadata": {},
   "source": [
    "## Save the file CSV format "
   ]
  },
  {
   "cell_type": "code",
   "execution_count": 12,
   "metadata": {},
   "outputs": [],
   "source": [
    "file_path = Path(\"articles.csv\")\n",
    "all_articles.to_csv(file_path, index=False, encoding='utf-8-sig')"
   ]
  },
  {
   "cell_type": "code",
   "execution_count": null,
   "metadata": {},
   "outputs": [],
   "source": []
  }
 ],
 "metadata": {
  "kernelspec": {
   "display_name": "Python 3",
   "language": "python",
   "name": "python3"
  },
  "language_info": {
   "codemirror_mode": {
    "name": "ipython",
    "version": 3
   },
   "file_extension": ".py",
   "mimetype": "text/x-python",
   "name": "python",
   "nbconvert_exporter": "python",
   "pygments_lexer": "ipython3",
   "version": "3.8.5"
  }
 },
 "nbformat": 4,
 "nbformat_minor": 4
}
